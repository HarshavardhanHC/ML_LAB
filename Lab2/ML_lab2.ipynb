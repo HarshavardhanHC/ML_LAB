{
  "nbformat": 4,
  "nbformat_minor": 0,
  "metadata": {
    "colab": {
      "provenance": [],
      "authorship_tag": "ABX9TyO7dHe2DkPz2r3LoohPUg3J",
      "include_colab_link": true
    },
    "kernelspec": {
      "name": "python3",
      "display_name": "Python 3"
    },
    "language_info": {
      "name": "python"
    }
  },
  "cells": [
    {
      "cell_type": "markdown",
      "metadata": {
        "id": "view-in-github",
        "colab_type": "text"
      },
      "source": [
        "<a href=\"https://colab.research.google.com/github/Harshavardhan-HC/ML-LAB-/blob/main/Lab2/ML_lab2.ipynb\" target=\"_parent\"><img src=\"https://colab.research.google.com/assets/colab-badge.svg\" alt=\"Open In Colab\"/></a>"
      ]
    },
    {
      "cell_type": "code",
      "source": [
        "from sklearn import preprocessing\n",
        "from sklearn.tree import DecisionTreeClassifier, export_text\n",
        "import numpy as np\n",
        "\n",
        "# Define the dataset\n",
        "features = np.array([\n",
        "    [\"Sunny\", \"Hot\", \"High\", \"Weak\"],\n",
        "    [\"Sunny\", \"Hot\", \"High\", \"Strong\"],\n",
        "    [\"Overcast\", \"Hot\", \"High\", \"Weak\"],\n",
        "    [\"Rain\", \"Mild\", \"High\", \"Weak\"],\n",
        "    [\"Rain\", \"Cool\", \"Normal\", \"Weak\"],\n",
        "    [\"Rain\", \"Cool\", \"Normal\", \"Strong\"],\n",
        "    [\"Overcast\", \"Cool\", \"Normal\", \"Strong\"],\n",
        "    [\"Sunny\", \"Mild\", \"High\", \"Weak\"],\n",
        "    [\"Sunny\", \"Cool\", \"Normal\", \"Weak\"],\n",
        "    [\"Rain\", \"Mild\", \"Normal\", \"Weak\"],\n",
        "    [\"Sunny\", \"Mild\", \"Normal\", \"Strong\"],\n",
        "    [\"Overcast\", \"Mild\", \"High\", \"Strong\"],\n",
        "    [\"Overcast\", \"Hot\", \"Normal\", \"Weak\"],\n",
        "    [\"Rain\", \"Mild\", \"High\", \"Strong\"]\n",
        "])\n",
        "labels = np.array([\"No\", \"No\", \"Yes\", \"Yes\", \"Yes\", \"No\", \"Yes\", \"No\", \"Yes\", \"Yes\", \"Yes\", \"Yes\", \"Yes\", \"No\"])\n",
        "\n",
        "# Preprocess the features\n",
        "le = preprocessing.LabelEncoder()\n",
        "features = le.fit_transform(np.ravel(features)).reshape(features.shape)\n",
        "\n",
        "# Initialize the DecisionTreeClassifier\n",
        "clf = DecisionTreeClassifier()\n",
        "\n",
        "# Fit the model\n",
        "clf.fit(features, labels)\n",
        "\n",
        "# Print the decision tree\n",
        "print(export_text(clf, feature_names=[\"Outlook\", \"Temperature\", \"Humidity\", \"Wind\"]))\n",
        "\n",
        "# Classify the new sample\n",
        "new_sample = np.array([[\"Sunny\", \"Cool\", \"High\", \"Strong\"]])\n",
        "new_sample = le.transform(np.ravel(new_sample)).reshape(new_sample.shape)\n",
        "prediction = clf.predict(new_sample)\n",
        "print(f\"The prediction for the new sample is: {prediction[0]}\")"
      ],
      "metadata": {
        "colab": {
          "base_uri": "https://localhost:8080/"
        },
        "id": "sEdho3q5oXpf",
        "outputId": "849e8195-33c9-41a9-dc68-9181cd78cc47"
      },
      "execution_count": null,
      "outputs": [
        {
          "output_type": "stream",
          "name": "stdout",
          "text": [
            "|--- Outlook <= 5.50\n",
            "|   |--- class: Yes\n",
            "|--- Outlook >  5.50\n",
            "|   |--- Humidity <= 2.50\n",
            "|   |   |--- Outlook <= 7.00\n",
            "|   |   |   |--- Wind <= 8.00\n",
            "|   |   |   |   |--- class: No\n",
            "|   |   |   |--- Wind >  8.00\n",
            "|   |   |   |   |--- class: Yes\n",
            "|   |   |--- Outlook >  7.00\n",
            "|   |   |   |--- class: No\n",
            "|   |--- Humidity >  2.50\n",
            "|   |   |--- Wind <= 8.00\n",
            "|   |   |   |--- Temperature <= 1.50\n",
            "|   |   |   |   |--- class: No\n",
            "|   |   |   |--- Temperature >  1.50\n",
            "|   |   |   |   |--- class: Yes\n",
            "|   |   |--- Wind >  8.00\n",
            "|   |   |   |--- class: Yes\n",
            "\n",
            "The prediction for the new sample is: No\n"
          ]
        }
      ]
    },
    {
      "cell_type": "code",
      "source": [
        "from sklearn.datasets import load_iris\n",
        "from sklearn.model_selection import train_test_split\n",
        "from sklearn.tree import DecisionTreeClassifier, export_text\n",
        "\n",
        "# Step 1: Load the Iris dataset\n",
        "iris = load_iris()\n",
        "X = iris.data  # Features\n",
        "y = iris.target  # Target variable\n",
        "\n",
        "# Step 2: Split the dataset into training and testing sets\n",
        "X_train, X_test, y_train, y_test = train_test_split(X, y, test_size=0.2, random_state=42)\n",
        "\n",
        "# Step 3: Build a decision tree classifier\n",
        "dt_classifier = DecisionTreeClassifier(criterion='entropy')  # Using 'entropy' to implement ID3\n",
        "dt_classifier.fit(X_train, y_train)\n",
        "\n",
        "# Step 4: Print the decision tree in the specified format\n",
        "tree_rules = export_text(dt_classifier, feature_names=iris.feature_names)\n",
        "print(tree_rules)\n",
        "\n",
        "# Step 5: Use the trained decision tree to classify a new sample\n",
        "new_sample = [[9.1, 5.5, 4.4, 5.5]]  # Example new sample's features\n",
        "predicted_class = dt_classifier.predict(new_sample)\n",
        "print(\"The prediction for the new sample is:\", iris.target_names[predicted_class[0]])\n",
        "\n"
      ],
      "metadata": {
        "id": "1FpFcZKtoiq4",
        "colab": {
          "base_uri": "https://localhost:8080/"
        },
        "outputId": "7af62dba-ec10-4a83-8798-43e10cd78583"
      },
      "execution_count": null,
      "outputs": [
        {
          "output_type": "stream",
          "name": "stdout",
          "text": [
            "|--- petal length (cm) <= 2.45\n",
            "|   |--- class: 0\n",
            "|--- petal length (cm) >  2.45\n",
            "|   |--- petal length (cm) <= 4.75\n",
            "|   |   |--- petal width (cm) <= 1.65\n",
            "|   |   |   |--- class: 1\n",
            "|   |   |--- petal width (cm) >  1.65\n",
            "|   |   |   |--- class: 2\n",
            "|   |--- petal length (cm) >  4.75\n",
            "|   |   |--- petal width (cm) <= 1.75\n",
            "|   |   |   |--- petal length (cm) <= 4.95\n",
            "|   |   |   |   |--- class: 1\n",
            "|   |   |   |--- petal length (cm) >  4.95\n",
            "|   |   |   |   |--- petal width (cm) <= 1.55\n",
            "|   |   |   |   |   |--- class: 2\n",
            "|   |   |   |   |--- petal width (cm) >  1.55\n",
            "|   |   |   |   |   |--- petal length (cm) <= 5.45\n",
            "|   |   |   |   |   |   |--- class: 1\n",
            "|   |   |   |   |   |--- petal length (cm) >  5.45\n",
            "|   |   |   |   |   |   |--- class: 2\n",
            "|   |   |--- petal width (cm) >  1.75\n",
            "|   |   |   |--- petal length (cm) <= 4.85\n",
            "|   |   |   |   |--- sepal length (cm) <= 5.95\n",
            "|   |   |   |   |   |--- class: 1\n",
            "|   |   |   |   |--- sepal length (cm) >  5.95\n",
            "|   |   |   |   |   |--- class: 2\n",
            "|   |   |   |--- petal length (cm) >  4.85\n",
            "|   |   |   |   |--- class: 2\n",
            "\n",
            "The prediction for the new sample is: virginica\n"
          ]
        }
      ]
    }
  ]
}